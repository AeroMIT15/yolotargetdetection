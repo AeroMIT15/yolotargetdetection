{
 "cells": [
  {
   "cell_type": "code",
   "execution_count": 1,
   "id": "ff0553c4",
   "metadata": {},
   "outputs": [
    {
     "name": "stdout",
     "output_type": "stream",
     "text": [
      "Annotation files updated successfully!\n"
     ]
    }
   ],
   "source": [
    "import os\n",
    "import glob\n",
    "\n",
    "# Define paths to your label directories\n",
    "label_dirs = [\n",
    "    '/Users/rohanshenoy/Desktop/targetidyolo/labels/train',\n",
    "    '/Users/rohanshenoy/Desktop/targetidyolo/labels/val',\n",
    "    '/Users/rohanshenoy/Desktop/targetidyolo/labels/test'\n",
    "]\n",
    "\n",
    "# Process each directory\n",
    "for label_dir in label_dirs:\n",
    "    # Get all txt files in the directory\n",
    "    txt_files = glob.glob(os.path.join(label_dir, '*.txt'))\n",
    "    \n",
    "    for txt_file in txt_files:\n",
    "        # Read the content of the file\n",
    "        with open(txt_file, 'r') as f:\n",
    "            lines = f.readlines()\n",
    "        \n",
    "        # Replace class ID 3 with 0\n",
    "        new_lines = []\n",
    "        for line in lines:\n",
    "            parts = line.split()\n",
    "            if parts and parts[0] == '3':  # If class ID is 3\n",
    "                parts[0] = '0'             # Change it to 0\n",
    "                new_lines.append(' '.join(parts) + '\\n')\n",
    "            # Skip other classes if you only want Black\n",
    "        \n",
    "        # Write the modified content back to the file\n",
    "        with open(txt_file, 'w') as f:\n",
    "            f.writelines(new_lines)\n",
    "\n",
    "print(\"Annotation files updated successfully!\")"
   ]
  },
  {
   "cell_type": "code",
   "execution_count": null,
   "id": "7f83040b",
   "metadata": {},
   "outputs": [],
   "source": []
  }
 ],
 "metadata": {
  "kernelspec": {
   "display_name": "Python 3 (ipykernel)",
   "language": "python",
   "name": "python3"
  },
  "language_info": {
   "codemirror_mode": {
    "name": "ipython",
    "version": 3
   },
   "file_extension": ".py",
   "mimetype": "text/x-python",
   "name": "python",
   "nbconvert_exporter": "python",
   "pygments_lexer": "ipython3",
   "version": "3.11.5"
  }
 },
 "nbformat": 4,
 "nbformat_minor": 5
}

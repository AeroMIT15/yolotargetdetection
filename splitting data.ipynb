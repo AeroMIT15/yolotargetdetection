{
 "cells": [
  {
   "cell_type": "code",
   "execution_count": 1,
   "id": "b89b6bd3",
   "metadata": {},
   "outputs": [
    {
     "name": "stdout",
     "output_type": "stream",
     "text": [
      "Dataset split complete:\n",
      "Train: 756 files (70%)\n",
      "Validation: 215 files (20%)\n",
      "Test: 109 files (10%)\n"
     ]
    }
   ],
   "source": [
    "import os\n",
    "import shutil\n",
    "import random\n",
    "from pathlib import Path\n",
    "\n",
    "# Define paths\n",
    "base_dir = \"/Users/rohanshenoy/Desktop/targetidyolo\"\n",
    "images_dir = os.path.join(base_dir, \"images\")\n",
    "labels_dir = os.path.join(base_dir, \"labels\")\n",
    "\n",
    "# Create train, val, test directories\n",
    "for parent_dir in [images_dir, labels_dir]:\n",
    "    for split in [\"train\", \"val\", \"test\"]:\n",
    "        os.makedirs(os.path.join(parent_dir, split), exist_ok=True)\n",
    "\n",
    "# Get all image filenames (assuming they're all valid images)\n",
    "image_files = [f for f in os.listdir(images_dir) if not os.path.isdir(os.path.join(images_dir, f))]\n",
    "\n",
    "# Shuffle the files to ensure random distribution\n",
    "random.shuffle(image_files)\n",
    "\n",
    "# Define split ratios (70% train, 20% val, 10% test)\n",
    "train_ratio = 0.7\n",
    "val_ratio = 0.2\n",
    "# test_ratio is implicitly 0.1\n",
    "\n",
    "# Calculate split points\n",
    "num_files = len(image_files)\n",
    "train_split = int(num_files * train_ratio)\n",
    "val_split = int(num_files * (train_ratio + val_ratio))\n",
    "\n",
    "# Split the files\n",
    "train_files = image_files[:train_split]\n",
    "val_files = image_files[train_split:val_split]\n",
    "test_files = image_files[val_split:]\n",
    "\n",
    "# Function to move files to their respective directories\n",
    "def move_files(file_list, split_name):\n",
    "    for filename in file_list:\n",
    "        # Get the base filename without extension\n",
    "        base_name = os.path.splitext(filename)[0]\n",
    "        \n",
    "        # Move image file\n",
    "        image_src = os.path.join(images_dir, filename)\n",
    "        image_dst = os.path.join(images_dir, split_name, filename)\n",
    "        \n",
    "        # Look for corresponding label file (assuming same name but might have different extension)\n",
    "        label_filename = None\n",
    "        for ext in ['.txt', '.xml', '.json']:  # Common label file extensions\n",
    "            potential_label = base_name + ext\n",
    "            if os.path.exists(os.path.join(labels_dir, potential_label)):\n",
    "                label_filename = potential_label\n",
    "                break\n",
    "        \n",
    "        # If we found a label file, move it\n",
    "        if label_filename:\n",
    "            label_src = os.path.join(labels_dir, label_filename)\n",
    "            label_dst = os.path.join(labels_dir, split_name, label_filename)\n",
    "            shutil.move(label_src, label_dst)\n",
    "        \n",
    "        # Move the image file\n",
    "        shutil.move(image_src, image_dst)\n",
    "\n",
    "# Move files to their respective directories\n",
    "move_files(train_files, \"train\")\n",
    "move_files(val_files, \"val\")\n",
    "move_files(test_files, \"test\")\n",
    "\n",
    "print(f\"Dataset split complete:\")\n",
    "print(f\"Train: {len(train_files)} files ({train_ratio*100:.0f}%)\")\n",
    "print(f\"Validation: {len(val_files)} files ({val_ratio*100:.0f}%)\")\n",
    "print(f\"Test: {len(test_files)} files ({(1-train_ratio-val_ratio)*100:.0f}%)\")"
   ]
  },
  {
   "cell_type": "code",
   "execution_count": null,
   "id": "a01c9b96",
   "metadata": {},
   "outputs": [],
   "source": []
  }
 ],
 "metadata": {
  "kernelspec": {
   "display_name": "Python 3 (ipykernel)",
   "language": "python",
   "name": "python3"
  },
  "language_info": {
   "codemirror_mode": {
    "name": "ipython",
    "version": 3
   },
   "file_extension": ".py",
   "mimetype": "text/x-python",
   "name": "python",
   "nbconvert_exporter": "python",
   "pygments_lexer": "ipython3",
   "version": "3.11.5"
  }
 },
 "nbformat": 4,
 "nbformat_minor": 5
}
